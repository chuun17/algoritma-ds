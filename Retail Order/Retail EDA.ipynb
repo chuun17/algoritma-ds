{
 "cells": [
  {
   "cell_type": "markdown",
   "metadata": {},
   "source": [
    "- berapa rata2 barang yang dipesan pada sekali pemesanan?\n",
    "- jam, hari, bulan yang paling sering order?\n",
    "- barang apa yang paling dibutuhkan setiap segmen\n",
    "- segmen yg paling profit\n",
    "- rata2 profit setiap pemesanan pada masing2 segmen\n",
    "- apakah barang2 diskon tinggi lebih sering dipesan"
   ]
  },
  {
   "cell_type": "markdown",
   "metadata": {},
   "source": [
    "This data is contains of sales record included the profit or loss from a retail company (i named it PT. Elips). PT.Elips is a global retail company who sells Office Supplies, Furniture and Technology stuff.\n",
    "The buyers are coming from different segment such as Corporate, Home Office until individual consumer. This company also could provide the best option for your delivery which suitable with your needs.\n",
    "\n",
    "Note : Detail explanatory will be given at the end of content"
   ]
  },
  {
   "cell_type": "code",
   "execution_count": 187,
   "metadata": {},
   "outputs": [],
   "source": [
    "import numpy as np\n",
    "import pandas as pd"
   ]
  },
  {
   "cell_type": "markdown",
   "metadata": {},
   "source": [
    "- Row ID              : ID data\n",
    "- Order ID            : ID pemesanan\n",
    "- Order Date          : Tanggal pemesanan\n",
    "- Ship Date           : Tanggal pengiriman\n",
    "- Ship Mode           : Mode pengiriman\n",
    "- Customer ID         : ID si pemesan\n",
    "- Segment             : Segmentasi si pemesan\n",
    "- Product ID          : ID barang\n",
    "- Category            : Kategori barang\n",
    "- Sub-Category        : Sub-kategori barang\n",
    "- Product Name        : Nama produk\n",
    "- Sales               : Penjualan\n",
    "- Quantity            : Kuantitas barang yang dipesan\n",
    "- Discount            : Diskon barang\n",
    "- Profit              : Profit yang dihasilkan"
   ]
  },
  {
   "cell_type": "markdown",
   "metadata": {},
   "source": [
    "## Import Dataset"
   ]
  },
  {
   "cell_type": "code",
   "execution_count": 5,
   "metadata": {},
   "outputs": [
    {
     "name": "stdout",
     "output_type": "stream",
     "text": [
      "<class 'pandas.core.frame.DataFrame'>\n",
      "RangeIndex: 9994 entries, 0 to 9993\n",
      "Data columns (total 15 columns):\n",
      " #   Column        Non-Null Count  Dtype  \n",
      "---  ------        --------------  -----  \n",
      " 0   Row ID        9994 non-null   int64  \n",
      " 1   Order ID      9994 non-null   object \n",
      " 2   Order Date    9994 non-null   object \n",
      " 3   Ship Date     9994 non-null   object \n",
      " 4   Ship Mode     9994 non-null   object \n",
      " 5   Customer ID   9994 non-null   object \n",
      " 6   Segment       9994 non-null   object \n",
      " 7   Product ID    9994 non-null   object \n",
      " 8   Category      9994 non-null   object \n",
      " 9   Sub-Category  9994 non-null   object \n",
      " 10  Product Name  9994 non-null   object \n",
      " 11  Sales         9994 non-null   float64\n",
      " 12  Quantity      9994 non-null   int64  \n",
      " 13  Discount      9994 non-null   float64\n",
      " 14  Profit        9994 non-null   float64\n",
      "dtypes: float64(3), int64(2), object(10)\n",
      "memory usage: 1.1+ MB\n"
     ]
    }
   ],
   "source": [
    "retail = pd.read_csv('retail.csv', encoding='ISO-8859-1')\n",
    "retail.info()"
   ]
  },
  {
   "cell_type": "markdown",
   "metadata": {},
   "source": [
    "- Dataset terdiri dari 9994 record data dan 15 feature columns\n",
    "- tidak ada missing value\n",
    "- 5 tipe data numerik, yang salah satunya id\n",
    "- cek kolom yang bisa diubah ke categorical dan datetime"
   ]
  },
  {
   "cell_type": "code",
   "execution_count": 61,
   "metadata": {},
   "outputs": [
    {
     "name": "stdout",
     "output_type": "stream",
     "text": [
      "<class 'pandas.core.frame.DataFrame'>\n",
      "RangeIndex: 9994 entries, 0 to 9993\n",
      "Data columns (total 15 columns):\n",
      " #   Column        Non-Null Count  Dtype         \n",
      "---  ------        --------------  -----         \n",
      " 0   Row ID        9994 non-null   int64         \n",
      " 1   Order ID      9994 non-null   object        \n",
      " 2   Order Date    9994 non-null   datetime64[ns]\n",
      " 3   Ship Date     9994 non-null   datetime64[ns]\n",
      " 4   Ship Mode     9994 non-null   category      \n",
      " 5   Customer ID   9994 non-null   object        \n",
      " 6   Segment       9994 non-null   category      \n",
      " 7   Product ID    9994 non-null   object        \n",
      " 8   Category      9994 non-null   category      \n",
      " 9   Sub-Category  9994 non-null   category      \n",
      " 10  Product Name  9994 non-null   object        \n",
      " 11  Sales         9994 non-null   float64       \n",
      " 12  Quantity      9994 non-null   int64         \n",
      " 13  Discount      9994 non-null   float64       \n",
      " 14  Profit        9994 non-null   float64       \n",
      "dtypes: category(4), datetime64[ns](2), float64(3), int64(2), object(4)\n",
      "memory usage: 899.2+ KB\n"
     ]
    }
   ],
   "source": [
    "retail['Order Date'] = pd.to_datetime(retail['Order Date'], format='%m/%d/%y')\n",
    "retail['Ship Date'] = pd.to_datetime(retail['Ship Date'], format='%m/%d/%y')\n",
    "\n",
    "categorical_col = ['Ship Mode', 'Segment', 'Category', 'Sub-Category']\n",
    "retail[categorical_col] = retail[categorical_col].astype('category')\n",
    "retail.info()"
   ]
  },
  {
   "cell_type": "code",
   "execution_count": 252,
   "metadata": {},
   "outputs": [
    {
     "data": {
      "text/plain": [
       "Timestamp('2014-01-03 00:00:00')"
      ]
     },
     "execution_count": 252,
     "metadata": {},
     "output_type": "execute_result"
    }
   ],
   "source": [
    "retail['Order Date'].min()"
   ]
  },
  {
   "cell_type": "code",
   "execution_count": 253,
   "metadata": {},
   "outputs": [
    {
     "data": {
      "text/plain": [
       "Timestamp('2017-12-30 00:00:00')"
      ]
     },
     "execution_count": 253,
     "metadata": {},
     "output_type": "execute_result"
    }
   ],
   "source": [
    "retail['Order Date'].max()"
   ]
  },
  {
   "cell_type": "markdown",
   "metadata": {},
   "source": [
    "Dataset berisi informasi order mulai dari tanggal **03 Januari 2014 - 30 Desember 2017**"
   ]
  },
  {
   "cell_type": "markdown",
   "metadata": {},
   "source": [
    "## EDA"
   ]
  },
  {
   "cell_type": "markdown",
   "metadata": {},
   "source": [
    "### Berapa rata2 barang yang dipesan pada sekali pemesanan?"
   ]
  },
  {
   "cell_type": "code",
   "execution_count": 64,
   "metadata": {},
   "outputs": [
    {
     "data": {
      "text/plain": [
       "3.789573744246548"
      ]
     },
     "execution_count": 64,
     "metadata": {},
     "output_type": "execute_result"
    }
   ],
   "source": [
    "retail.Quantity.mean()"
   ]
  },
  {
   "cell_type": "code",
   "execution_count": 68,
   "metadata": {},
   "outputs": [
    {
     "data": {
      "text/plain": [
       "5009"
      ]
     },
     "execution_count": 68,
     "metadata": {},
     "output_type": "execute_result"
    }
   ],
   "source": [
    "retail['Order ID'].nunique()"
   ]
  },
  {
   "cell_type": "code",
   "execution_count": 75,
   "metadata": {
    "scrolled": true
   },
   "outputs": [
    {
     "data": {
      "text/plain": [
       "Order ID\n",
       "CA-2014-100006    1\n",
       "CA-2014-100090    2\n",
       "CA-2014-100293    1\n",
       "CA-2014-100328    1\n",
       "CA-2014-100363    2\n",
       "                 ..\n",
       "US-2017-168802    1\n",
       "US-2017-169320    2\n",
       "US-2017-169488    2\n",
       "US-2017-169502    2\n",
       "US-2017-169551    6\n",
       "Name: Product ID, Length: 5009, dtype: int64"
      ]
     },
     "execution_count": 75,
     "metadata": {},
     "output_type": "execute_result"
    }
   ],
   "source": [
    "order_product_num = retail.groupby('Order ID')['Product ID'].count()\n",
    "order_product_num"
   ]
  },
  {
   "cell_type": "code",
   "execution_count": 79,
   "metadata": {},
   "outputs": [
    {
     "data": {
      "text/plain": [
       "1.9952086244759433"
      ]
     },
     "execution_count": 79,
     "metadata": {},
     "output_type": "execute_result"
    }
   ],
   "source": [
    "order_product_num.mean()"
   ]
  },
  {
   "cell_type": "markdown",
   "metadata": {},
   "source": [
    ">Dari 9.994 data terdapat 5.009 kali peng-orderan yang mana untuk setiap order yang dilakukan rata-rata mereka memesan hampir **2 barang** yang berbeda sekaligus."
   ]
  },
  {
   "cell_type": "markdown",
   "metadata": {},
   "source": [
    "### Hari dan bulan yang paling sering order?"
   ]
  },
  {
   "cell_type": "code",
   "execution_count": 131,
   "metadata": {},
   "outputs": [],
   "source": [
    "retail['Day Order'] = retail['Order Date'].dt.day_name().astype('category')\n",
    "retail['Month Order'] = retail['Order Date'].dt.month_name().astype('category')"
   ]
  },
  {
   "cell_type": "code",
   "execution_count": 132,
   "metadata": {},
   "outputs": [
    {
     "data": {
      "text/html": [
       "<div>\n",
       "<style scoped>\n",
       "    .dataframe tbody tr th:only-of-type {\n",
       "        vertical-align: middle;\n",
       "    }\n",
       "\n",
       "    .dataframe tbody tr th {\n",
       "        vertical-align: top;\n",
       "    }\n",
       "\n",
       "    .dataframe thead th {\n",
       "        text-align: right;\n",
       "    }\n",
       "</style>\n",
       "<table border=\"1\" class=\"dataframe\">\n",
       "  <thead>\n",
       "    <tr style=\"text-align: right;\">\n",
       "      <th></th>\n",
       "      <th>Order ID</th>\n",
       "      <th>Day Order</th>\n",
       "      <th>Month Order</th>\n",
       "    </tr>\n",
       "  </thead>\n",
       "  <tbody>\n",
       "    <tr>\n",
       "      <th>0</th>\n",
       "      <td>CA-2016-152156</td>\n",
       "      <td>Tuesday</td>\n",
       "      <td>November</td>\n",
       "    </tr>\n",
       "    <tr>\n",
       "      <th>2</th>\n",
       "      <td>CA-2016-138688</td>\n",
       "      <td>Sunday</td>\n",
       "      <td>June</td>\n",
       "    </tr>\n",
       "    <tr>\n",
       "      <th>3</th>\n",
       "      <td>US-2015-108966</td>\n",
       "      <td>Sunday</td>\n",
       "      <td>October</td>\n",
       "    </tr>\n",
       "    <tr>\n",
       "      <th>5</th>\n",
       "      <td>CA-2014-115812</td>\n",
       "      <td>Monday</td>\n",
       "      <td>June</td>\n",
       "    </tr>\n",
       "    <tr>\n",
       "      <th>12</th>\n",
       "      <td>CA-2017-114412</td>\n",
       "      <td>Saturday</td>\n",
       "      <td>April</td>\n",
       "    </tr>\n",
       "  </tbody>\n",
       "</table>\n",
       "</div>"
      ],
      "text/plain": [
       "          Order ID Day Order Month Order\n",
       "0   CA-2016-152156   Tuesday    November\n",
       "2   CA-2016-138688    Sunday        June\n",
       "3   US-2015-108966    Sunday     October\n",
       "5   CA-2014-115812    Monday        June\n",
       "12  CA-2017-114412  Saturday       April"
      ]
     },
     "execution_count": 132,
     "metadata": {},
     "output_type": "execute_result"
    }
   ],
   "source": [
    "unique_order = retail[['Order ID', 'Day Order', 'Month Order']].drop_duplicates()\n",
    "num_order = unique_order.shape[0]\n",
    "unique_order.head()"
   ]
  },
  {
   "cell_type": "code",
   "execution_count": 133,
   "metadata": {
    "scrolled": true
   },
   "outputs": [
    {
     "data": {
      "text/plain": [
       "Day Order\n",
       "Monday       18.366940\n",
       "Friday       18.287083\n",
       "Sunday       16.969455\n",
       "Saturday     16.709922\n",
       "Thursday     14.893192\n",
       "Tuesday      11.139948\n",
       "Wednesday     3.633460\n",
       "Name: Order ID, dtype: float64"
      ]
     },
     "execution_count": 133,
     "metadata": {},
     "output_type": "execute_result"
    }
   ],
   "source": [
    "unique_order.groupby('Day Order')['Order ID'].count().sort_values(ascending=False) / num_order * 100"
   ]
  },
  {
   "cell_type": "markdown",
   "metadata": {},
   "source": [
    ">Jika memperhatikan order yang dilakukan per harinya maka bisa dilihat jika order paling sering dilakukan pada hari Senin dan Jumat. Dan yang paling mengejutkan ialah order yang paling sedikit yaitu pada **hari Rabu** yang hanya 3.63%, yang mana proporsinya sangat timpang jika dibandingkan dengan hari lainnya."
   ]
  },
  {
   "cell_type": "markdown",
   "metadata": {},
   "source": [
    "### Barang dengan jenis sub-kategori apa yang paling dibutuhkan setiap segmen?"
   ]
  },
  {
   "cell_type": "code",
   "execution_count": 165,
   "metadata": {},
   "outputs": [
    {
     "data": {
      "text/plain": [
       "Sub-Category\n",
       "Binders        15.026007\n",
       "Paper          13.350029\n",
       "Furnishings     9.516471\n",
       "Phones          8.688114\n",
       "Storage         8.668850\n",
       "Art             8.245039\n",
       "Accessories     7.859757\n",
       "Chairs          6.337893\n",
       "Appliances      4.700443\n",
       "Labels          3.640917\n",
       "Tables          3.062994\n",
       "Bookcases       2.523599\n",
       "Envelopes       2.485070\n",
       "Fasteners       2.196109\n",
       "Supplies        1.926411\n",
       "Machines        1.098054\n",
       "Copiers         0.674244\n",
       "Name: Consumer, dtype: float64"
      ]
     },
     "execution_count": 165,
     "metadata": {},
     "output_type": "execute_result"
    }
   ],
   "source": [
    "segment_order = retail.groupby(['Segment', 'Sub-Category'])['Row ID'].count()\n",
    "consumer_order = segment_order.unstack().loc['Consumer'].sort_values(ascending=False)\n",
    "consumer_order / sum(consumer_order) * 100"
   ]
  },
  {
   "cell_type": "code",
   "execution_count": 166,
   "metadata": {
    "scrolled": true
   },
   "outputs": [
    {
     "data": {
      "text/plain": [
       "Sub-Category\n",
       "Binders        15.662252\n",
       "Paper          13.509934\n",
       "Furnishings     9.536424\n",
       "Phones          9.006623\n",
       "Storage         8.609272\n",
       "Accessories     7.516556\n",
       "Art             7.218543\n",
       "Chairs          6.225166\n",
       "Appliances      5.132450\n",
       "Tables          3.509934\n",
       "Labels          3.377483\n",
       "Envelopes       2.781457\n",
       "Bookcases       2.119205\n",
       "Supplies        2.019868\n",
       "Fasteners       1.953642\n",
       "Machines        1.158940\n",
       "Copiers         0.662252\n",
       "Name: Corporate, dtype: float64"
      ]
     },
     "execution_count": 166,
     "metadata": {},
     "output_type": "execute_result"
    }
   ],
   "source": [
    "corporate_order = segment_order.unstack().loc['Corporate'].sort_values(ascending=False)\n",
    "corporate_order / sum(corporate_order) * 100"
   ]
  },
  {
   "cell_type": "code",
   "execution_count": 167,
   "metadata": {
    "scrolled": true
   },
   "outputs": [
    {
     "data": {
      "text/plain": [
       "Sub-Category\n",
       "Binders        15.143017\n",
       "Paper          15.086932\n",
       "Furnishings     9.814919\n",
       "Phones          9.310151\n",
       "Art             8.412787\n",
       "Accessories     7.851935\n",
       "Storage         7.627594\n",
       "Chairs          5.608525\n",
       "Labels          4.094223\n",
       "Appliances      3.757712\n",
       "Tables          3.028603\n",
       "Fasteners       2.467751\n",
       "Envelopes       2.299495\n",
       "Bookcases       1.850813\n",
       "Supplies        1.626472\n",
       "Machines        1.289961\n",
       "Copiers         0.729108\n",
       "Name: Home Office, dtype: float64"
      ]
     },
     "execution_count": 167,
     "metadata": {},
     "output_type": "execute_result"
    }
   ],
   "source": [
    "home_office_order = segment_order.unstack().loc['Home Office'].sort_values(ascending=False)\n",
    "home_office_order / sum(home_office_order) * 100"
   ]
  },
  {
   "cell_type": "markdown",
   "metadata": {},
   "source": [
    ">Berdasarkan order yang dilakukan oleh setiap segmen, sub-kategori produk yang di-order hampir sama saja. Dengan kata lain semua segmen memiliki kecenderungan untuk **memesan sub-kategori yang sama**. Dari keseluruhan order yang dilakukan sekitar seperempatnya berasal dari **sub-kategori binders dan paper**."
   ]
  },
  {
   "cell_type": "markdown",
   "metadata": {},
   "source": [
    "### Segmen apa yang paling besar menghasilkan profit?"
   ]
  },
  {
   "cell_type": "code",
   "execution_count": 172,
   "metadata": {},
   "outputs": [
    {
     "data": {
      "text/plain": [
       "Segment\n",
       "Consumer       134119.2092\n",
       "Corporate       91979.1340\n",
       "Home Office     60298.6785\n",
       "Name: Profit, dtype: float64"
      ]
     },
     "execution_count": 172,
     "metadata": {},
     "output_type": "execute_result"
    }
   ],
   "source": [
    "retail.groupby('Segment')['Profit'].sum().sort_values(ascending=False)"
   ]
  },
  {
   "cell_type": "markdown",
   "metadata": {},
   "source": [
    "### Segmen apa yang menghasilkan rata2 profit tertinggi?"
   ]
  },
  {
   "cell_type": "code",
   "execution_count": 173,
   "metadata": {
    "scrolled": true
   },
   "outputs": [
    {
     "data": {
      "text/plain": [
       "Segment\n",
       "Home Office    33.818664\n",
       "Corporate      30.456667\n",
       "Consumer       25.836873\n",
       "Name: Profit, dtype: float64"
      ]
     },
     "execution_count": 173,
     "metadata": {},
     "output_type": "execute_result"
    }
   ],
   "source": [
    "retail.groupby('Segment')['Profit'].mean().sort_values(ascending=False)"
   ]
  },
  {
   "cell_type": "code",
   "execution_count": 174,
   "metadata": {},
   "outputs": [
    {
     "data": {
      "text/plain": [
       "Consumer       5191\n",
       "Corporate      3020\n",
       "Home Office    1783\n",
       "Name: Segment, dtype: int64"
      ]
     },
     "execution_count": 174,
     "metadata": {},
     "output_type": "execute_result"
    }
   ],
   "source": [
    "retail['Segment'].value_counts()"
   ]
  },
  {
   "cell_type": "markdown",
   "metadata": {},
   "source": [
    ">Profit terbanyak dihasilkan oleh segmen Consumer. Namun jika kita menghitung rata-rata yang dihasilkan setiap segmennya, maka segmen Home Office lah yang menghasilkan profit terbesar walaupun frekuensi order yang dilakukan oleh segmen ini adalah yang terendah. Hal ini menunjukkan bahwa order akan menghasilkan profit tertinggi jika yang melakukan order berada dalam segmen Home Office."
   ]
  },
  {
   "cell_type": "markdown",
   "metadata": {},
   "source": [
    "### Apakah barang2 diskon tinggi lebih menghasilkan profit yang lebih tinggi pula?"
   ]
  },
  {
   "cell_type": "code",
   "execution_count": 180,
   "metadata": {},
   "outputs": [
    {
     "data": {
      "text/plain": [
       "array([0.  , 0.45, 0.2 , 0.8 , 0.3 , 0.5 , 0.7 , 0.6 , 0.32, 0.1 , 0.4 ,\n",
       "       0.15])"
      ]
     },
     "execution_count": 180,
     "metadata": {},
     "output_type": "execute_result"
    }
   ],
   "source": [
    "retail['Discount'].unique()"
   ]
  },
  {
   "cell_type": "code",
   "execution_count": 210,
   "metadata": {},
   "outputs": [
    {
     "data": {
      "text/plain": [
       "Discount\n",
       "No Discount           320987.6032\n",
       "Discount < 30%        100785.4745\n",
       "Discount 30% - 60%    -64761.6599\n",
       "Discount > 60%        -70614.3961\n",
       "Name: Profit, dtype: float64"
      ]
     },
     "execution_count": 210,
     "metadata": {},
     "output_type": "execute_result"
    }
   ],
   "source": [
    "def convert_discount(x):\n",
    "    if x == 0:\n",
    "        return 'No Discount'\n",
    "    elif x>0 and x<.3:\n",
    "        return 'Discount < 30%'\n",
    "    elif x>=.3 and x<=.6:\n",
    "        return 'Discount 30% - 60%'\n",
    "    elif x>.6:\n",
    "        return 'Discount > 60%'\n",
    "    \n",
    "discount = retail['Discount'].map(convert_discount).values\n",
    "discount_df = pd.DataFrame({'Discount': discount, 'Profit': retail.Profit})\n",
    "discount_df.groupby('Discount')['Profit'].sum().sort_values(ascending=False)"
   ]
  },
  {
   "cell_type": "markdown",
   "metadata": {},
   "source": [
    ">Diskon dengan besaran 30% keatas justru cenderung memberikan kerugian. Sebaliknya barang-barang dengan diskon dibawah 30% dan bahkan barang-barang tanpa diskon meenghasilkan profit yang besar. Sepertinya besarnya **diskon hanya dijadikan sebagai strategi marketing untuk memikat pelanggan**, bukan untuk mencari profit."
   ]
  },
  {
   "cell_type": "markdown",
   "metadata": {},
   "source": [
    "### Segmen apa yang paling mendominasi untuk setiap ship mode nya?"
   ]
  },
  {
   "cell_type": "code",
   "execution_count": 232,
   "metadata": {},
   "outputs": [],
   "source": [
    "shipmode_order = retail[['Row ID', 'Ship Mode', 'Segment']].copy()\n",
    "shipmode_order = shipmode_order.groupby(['Ship Mode', 'Segment'])['Row ID'].count().unstack()"
   ]
  },
  {
   "cell_type": "code",
   "execution_count": 233,
   "metadata": {},
   "outputs": [
    {
     "data": {
      "text/plain": [
       "Segment\n",
       "Consumer       51.692359\n",
       "Corporate      30.361930\n",
       "Home Office    17.945710\n",
       "Name: Standard Class, dtype: float64"
      ]
     },
     "execution_count": 233,
     "metadata": {},
     "output_type": "execute_result"
    }
   ],
   "source": [
    "shipmode_order.loc['Standard Class'] / shipmode_order.loc['Standard Class'].sum() * 100"
   ]
  },
  {
   "cell_type": "code",
   "execution_count": 234,
   "metadata": {},
   "outputs": [
    {
     "data": {
      "text/plain": [
       "Segment\n",
       "Consumer       52.442159\n",
       "Corporate      31.311054\n",
       "Home Office    16.246787\n",
       "Name: Second Class, dtype: float64"
      ]
     },
     "execution_count": 234,
     "metadata": {},
     "output_type": "execute_result"
    }
   ],
   "source": [
    "shipmode_order.loc['Second Class'] / shipmode_order.loc['Second Class'].sum() * 100"
   ]
  },
  {
   "cell_type": "code",
   "execution_count": 235,
   "metadata": {},
   "outputs": [
    {
     "data": {
      "text/plain": [
       "Segment\n",
       "Consumer       50.00000\n",
       "Corporate      31.53446\n",
       "Home Office    18.46554\n",
       "Name: First Class, dtype: float64"
      ]
     },
     "execution_count": 235,
     "metadata": {},
     "output_type": "execute_result"
    }
   ],
   "source": [
    "shipmode_order.loc['First Class'] / shipmode_order.loc['First Class'].sum() * 100"
   ]
  },
  {
   "cell_type": "code",
   "execution_count": 236,
   "metadata": {
    "scrolled": true
   },
   "outputs": [
    {
     "data": {
      "text/plain": [
       "Segment\n",
       "Consumer       58.379374\n",
       "Corporate      20.994475\n",
       "Home Office    20.626151\n",
       "Name: Same Day, dtype: float64"
      ]
     },
     "execution_count": 236,
     "metadata": {},
     "output_type": "execute_result"
    }
   ],
   "source": [
    "shipmode_order.loc['Same Day'] / shipmode_order.loc['Same Day'].sum() * 100"
   ]
  },
  {
   "cell_type": "code",
   "execution_count": 237,
   "metadata": {},
   "outputs": [
    {
     "data": {
      "text/plain": [
       "Segment\n",
       "Consumer       51.941165\n",
       "Corporate      30.218131\n",
       "Home Office    17.840704\n",
       "dtype: float64"
      ]
     },
     "execution_count": 237,
     "metadata": {},
     "output_type": "execute_result"
    }
   ],
   "source": [
    "shipmode_order.sum() / sum(shipmode_order.sum()) * 100"
   ]
  },
  {
   "cell_type": "markdown",
   "metadata": {},
   "source": [
    ">Segmen Consumer mendominasi untuk order pada semua jenis ship mode. Hal ini berkorelasi dengan Segmen Consumer mendominasi sebanyak 50% dari total order yang dilakukan."
   ]
  },
  {
   "cell_type": "markdown",
   "metadata": {},
   "source": [
    "### Jenis pengiriman barang seperti apakah yang memberikan profit terbesar?"
   ]
  },
  {
   "cell_type": "code",
   "execution_count": 238,
   "metadata": {},
   "outputs": [],
   "source": [
    "shipmode_profit = retail[['Row ID', 'Ship Mode', 'Profit']].copy()"
   ]
  },
  {
   "cell_type": "code",
   "execution_count": 243,
   "metadata": {},
   "outputs": [
    {
     "data": {
      "text/plain": [
       "Ship Mode\n",
       "Standard Class    164088.7875\n",
       "Second Class       57446.6354\n",
       "First Class        48969.8399\n",
       "Same Day           15891.7589\n",
       "Name: Profit, dtype: float64"
      ]
     },
     "execution_count": 243,
     "metadata": {},
     "output_type": "execute_result"
    }
   ],
   "source": [
    "shipmode_profit.groupby('Ship Mode')['Profit'].sum().sort_values(ascending=False)"
   ]
  },
  {
   "cell_type": "code",
   "execution_count": 244,
   "metadata": {},
   "outputs": [
    {
     "data": {
      "text/plain": [
       "Ship Mode\n",
       "First Class       31.839948\n",
       "Second Class      29.535545\n",
       "Same Day          29.266591\n",
       "Standard Class    27.494770\n",
       "Name: Profit, dtype: float64"
      ]
     },
     "execution_count": 244,
     "metadata": {},
     "output_type": "execute_result"
    }
   ],
   "source": [
    "shipmode_profit.groupby('Ship Mode')['Profit'].mean().sort_values(ascending=False)"
   ]
  },
  {
   "cell_type": "code",
   "execution_count": 245,
   "metadata": {},
   "outputs": [
    {
     "data": {
      "text/plain": [
       "Standard Class    5968\n",
       "Second Class      1945\n",
       "First Class       1538\n",
       "Same Day           543\n",
       "Name: Ship Mode, dtype: int64"
      ]
     },
     "execution_count": 245,
     "metadata": {},
     "output_type": "execute_result"
    }
   ],
   "source": [
    "shipmode_profit['Ship Mode'].value_counts()"
   ]
  },
  {
   "cell_type": "markdown",
   "metadata": {},
   "source": [
    ">Secara keseluruhan Ship Mode Standard Class memberikan profit yang paling tinggi walaupun profit untuk setiap transaksinya terendah jika dibandingkan dengan ship mode yang lain. Hal ini dikarenakan frekuensi order dengan menggunakan Ship Mode jenis ini juga tinggi."
   ]
  },
  {
   "cell_type": "code",
   "execution_count": 251,
   "metadata": {},
   "outputs": [
    {
     "data": {
      "text/html": [
       "<div>\n",
       "<style scoped>\n",
       "    .dataframe tbody tr th:only-of-type {\n",
       "        vertical-align: middle;\n",
       "    }\n",
       "\n",
       "    .dataframe tbody tr th {\n",
       "        vertical-align: top;\n",
       "    }\n",
       "\n",
       "    .dataframe thead th {\n",
       "        text-align: right;\n",
       "    }\n",
       "</style>\n",
       "<table border=\"1\" class=\"dataframe\">\n",
       "  <thead>\n",
       "    <tr style=\"text-align: right;\">\n",
       "      <th></th>\n",
       "      <th>Order Date</th>\n",
       "      <th>Ship Date</th>\n",
       "    </tr>\n",
       "  </thead>\n",
       "  <tbody>\n",
       "    <tr>\n",
       "      <th>count</th>\n",
       "      <td>9994</td>\n",
       "      <td>9994</td>\n",
       "    </tr>\n",
       "    <tr>\n",
       "      <th>unique</th>\n",
       "      <td>1237</td>\n",
       "      <td>1334</td>\n",
       "    </tr>\n",
       "    <tr>\n",
       "      <th>top</th>\n",
       "      <td>2016-09-05 00:00:00</td>\n",
       "      <td>2015-12-16 00:00:00</td>\n",
       "    </tr>\n",
       "    <tr>\n",
       "      <th>freq</th>\n",
       "      <td>38</td>\n",
       "      <td>35</td>\n",
       "    </tr>\n",
       "    <tr>\n",
       "      <th>first</th>\n",
       "      <td>2014-01-03 00:00:00</td>\n",
       "      <td>2014-01-07 00:00:00</td>\n",
       "    </tr>\n",
       "    <tr>\n",
       "      <th>last</th>\n",
       "      <td>2017-12-30 00:00:00</td>\n",
       "      <td>2018-01-05 00:00:00</td>\n",
       "    </tr>\n",
       "  </tbody>\n",
       "</table>\n",
       "</div>"
      ],
      "text/plain": [
       "                 Order Date            Ship Date\n",
       "count                  9994                 9994\n",
       "unique                 1237                 1334\n",
       "top     2016-09-05 00:00:00  2015-12-16 00:00:00\n",
       "freq                     38                   35\n",
       "first   2014-01-03 00:00:00  2014-01-07 00:00:00\n",
       "last    2017-12-30 00:00:00  2018-01-05 00:00:00"
      ]
     },
     "execution_count": 251,
     "metadata": {},
     "output_type": "execute_result"
    }
   ],
   "source": [
    "retail.describe(include=['datetime64'])"
   ]
  },
  {
   "cell_type": "code",
   "execution_count": null,
   "metadata": {},
   "outputs": [],
   "source": []
  }
 ],
 "metadata": {
  "kernelspec": {
   "display_name": "Python 3",
   "language": "python",
   "name": "python3"
  },
  "language_info": {
   "codemirror_mode": {
    "name": "ipython",
    "version": 3
   },
   "file_extension": ".py",
   "mimetype": "text/x-python",
   "name": "python",
   "nbconvert_exporter": "python",
   "pygments_lexer": "ipython3",
   "version": "3.7.6"
  },
  "toc": {
   "base_numbering": 1,
   "nav_menu": {},
   "number_sections": false,
   "sideBar": true,
   "skip_h1_title": false,
   "title_cell": "Table of Contents",
   "title_sidebar": "Contents",
   "toc_cell": false,
   "toc_position": {},
   "toc_section_display": true,
   "toc_window_display": true
  }
 },
 "nbformat": 4,
 "nbformat_minor": 4
}
